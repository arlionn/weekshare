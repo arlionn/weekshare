{
 "cells": [
  {
   "cell_type": "markdown",
   "id": "879a2bb5",
   "metadata": {},
   "source": [
    "\n",
    "# 第2讲：监督学习与集成学习概论（Python 实操讲义）\n",
    "\n",
    "本 Notebook 配套“第2讲：正则化建模与集成学习方法”，包含两部分：\n",
    "1. **LASSO 回归**：系数路径与交叉验证选择超参（详见slides）；\n",
    "2. **决策树**：分类性能与特征重要性。\n",
    "\n",
    "运行说明：\n",
    "- 建议使用 Python 3.9+，依赖 `numpy`、`pandas`、`matplotlib`、`scikit-learn`\n"
   ]
  },
  {
   "cell_type": "markdown",
   "id": "dca10f39",
   "metadata": {},
   "source": [
    "\n",
    "## 环境准备（可选）\n",
    "> 如本地缺失依赖，可执行下列命令（如在 JupyterLab/VS Code 的终端中）：\n",
    "```bash\n",
    "pip install numpy pandas matplotlib scikit-learn\n",
    "```\n"
   ]
  },
  {
   "cell_type": "markdown",
   "id": "3dbf12ce-37b2-4e69-af21-db55282e861f",
   "metadata": {},
   "source": [
    "![](kfold.png)\n"
   ]
  },
  {
   "cell_type": "markdown",
   "id": "7b62d9a2-fb75-4395-930d-df1bea4eb5f4",
   "metadata": {},
   "source": [
    "## 决策树\n",
    "数据'employee.csv'\n",
    "共10个变量：\n",
    "* 因变量left，1表示离职\n",
    "* 变量satisfaction_level表示员工满意度\n",
    "* 变量last_evaluation表示最近一次评估得分\n",
    "* 变量number_project表示参与的项目数量\n",
    "* 变量average_montly_hours表示工作时间（小时/月）\n",
    "* 变量time_spend_company表示在公司工作的年限\n",
    "* 变量Work_accident表示是否发生过工作事故\n",
    "* 变量promotion_last_5years表示过去5年有没有升迁过\n",
    "* 变量department表示工作的部门\n",
    "* 变量salary表示薪资水平：高、中、低"
   ]
  },
  {
   "cell_type": "code",
   "execution_count": 17,
   "id": "363c09bc-e5a1-49eb-882d-3e0eea8cc949",
   "metadata": {
    "tags": []
   },
   "outputs": [
    {
     "name": "stdout",
     "output_type": "stream",
     "text": [
      "<class 'pandas.core.frame.DataFrame'>\n",
      "RangeIndex: 14999 entries, 0 to 14998\n",
      "Data columns (total 10 columns):\n",
      " #   Column                 Non-Null Count  Dtype  \n",
      "---  ------                 --------------  -----  \n",
      " 0   satisfaction_level     14999 non-null  float64\n",
      " 1   last_evaluation        14999 non-null  float64\n",
      " 2   number_project         14999 non-null  int64  \n",
      " 3   average_montly_hours   14999 non-null  int64  \n",
      " 4   time_spend_company     14999 non-null  int64  \n",
      " 5   Work_accident          14999 non-null  int64  \n",
      " 6   promotion_last_5years  14999 non-null  int64  \n",
      " 7   department             14999 non-null  object \n",
      " 8   salary                 14999 non-null  object \n",
      " 9   left                   14999 non-null  int64  \n",
      "dtypes: float64(2), int64(6), object(2)\n",
      "memory usage: 1.1+ MB\n",
      "       satisfaction_level  last_evaluation  number_project  \\\n",
      "count        14999.000000     14999.000000    14999.000000   \n",
      "mean             0.612834         0.716102        3.803054   \n",
      "std              0.248631         0.171169        1.232592   \n",
      "min              0.090000         0.360000        2.000000   \n",
      "25%              0.440000         0.560000        3.000000   \n",
      "50%              0.640000         0.720000        4.000000   \n",
      "75%              0.820000         0.870000        5.000000   \n",
      "max              1.000000         1.000000        7.000000   \n",
      "\n",
      "       average_montly_hours  time_spend_company  Work_accident  \\\n",
      "count          14999.000000        14999.000000   14999.000000   \n",
      "mean             201.050337            3.498233       0.144610   \n",
      "std               49.943099            1.460136       0.351719   \n",
      "min               96.000000            2.000000       0.000000   \n",
      "25%              156.000000            3.000000       0.000000   \n",
      "50%              200.000000            3.000000       0.000000   \n",
      "75%              245.000000            4.000000       0.000000   \n",
      "max              310.000000           10.000000       1.000000   \n",
      "\n",
      "       promotion_last_5years          left  \n",
      "count           14999.000000  14999.000000  \n",
      "mean                0.021268      0.238083  \n",
      "std                 0.144281      0.425924  \n",
      "min                 0.000000      0.000000  \n",
      "25%                 0.000000      0.000000  \n",
      "50%                 0.000000      0.000000  \n",
      "75%                 0.000000      0.000000  \n",
      "max                 1.000000      1.000000  \n",
      "department\n",
      "sales          4140\n",
      "technical      2720\n",
      "support        2229\n",
      "IT             1227\n",
      "product_mng     902\n",
      "marketing       858\n",
      "RandD           787\n",
      "accounting      767\n",
      "hr              739\n",
      "management      630\n",
      "Name: count, dtype: int64\n",
      "salary\n",
      "low       7316\n",
      "medium    6446\n",
      "high      1237\n",
      "Name: count, dtype: int64\n",
      "left\n",
      "0    11428\n",
      "1     3571\n",
      "Name: count, dtype: int64\n"
     ]
    }
   ],
   "source": [
    "# 数据探索\n",
    "import numpy as np\n",
    "import pandas as pd\n",
    "import matplotlib.pyplot as plt\n",
    "from tkinter import *\n",
    "# import pandas_profiling\n",
    "import dtale\n",
    "#导入数据\n",
    "data = pd.read_csv(\"data/employee.csv\")\n",
    "#进行数据探索\n",
    "data.info()\n",
    "print(data.describe())\n",
    "print(data['department'].value_counts())\n",
    "print(data['salary'].value_counts())\n",
    "print(data['left'].value_counts())\n",
    "\n"
   ]
  },
  {
   "cell_type": "code",
   "execution_count": 19,
   "id": "ab0146e2-0006-4e79-a1c5-16b00cde0d03",
   "metadata": {},
   "outputs": [
    {
     "name": "stdout",
     "output_type": "stream",
     "text": [
      "       satisfaction_level  last_evaluation  number_project  \\\n",
      "494                  0.84             1.00               5   \n",
      "10886                0.63             0.71               4   \n",
      "3459                 0.63             0.62               5   \n",
      "10531                0.81             0.91               3   \n",
      "5681                 0.61             0.87               4   \n",
      "\n",
      "       average_montly_hours  time_spend_company  Work_accident  \\\n",
      "494                     218                   5              0   \n",
      "10886                   244                   2              0   \n",
      "3459                    212                   6              0   \n",
      "10531                   184                   3              0   \n",
      "5681                    151                   3              0   \n",
      "\n",
      "       promotion_last_5years  left  salary_new  depart_IT  depart_RandD  \\\n",
      "494                        0     1           2      False         False   \n",
      "10886                      0     0           1      False         False   \n",
      "3459                       0     0           2      False         False   \n",
      "10531                      0     0           1      False          True   \n",
      "5681                       0     0           2      False         False   \n",
      "\n",
      "       depart_accounting  depart_hr  depart_management  depart_marketing  \\\n",
      "494                False      False              False             False   \n",
      "10886              False      False              False             False   \n",
      "3459               False      False              False             False   \n",
      "10531              False      False              False             False   \n",
      "5681               False       True              False             False   \n",
      "\n",
      "       depart_product_mng  depart_sales  depart_support  depart_technical  \n",
      "494                 False         False           False              True  \n",
      "10886               False         False            True             False  \n",
      "3459                False          True           False             False  \n",
      "10531               False         False           False             False  \n",
      "5681                False         False           False             False  \n"
     ]
    }
   ],
   "source": [
    "#训练决策树模型\n",
    "\n",
    "import numpy as np\n",
    "import pandas as pd\n",
    "import matplotlib.pyplot as plt\n",
    "from tkinter import *\n",
    "\n",
    "# 导入数据\n",
    "data_prepared = pd.read_csv(\"data/employee_prepared.csv\")\n",
    "\n",
    "# 打乱数据\n",
    "df = data_prepared.sample(frac=1) \n",
    "print(df.head()) #查看打乱后的前 5行\n",
    "\n",
    "# 拆分特征与标签\n",
    "y = df['left'].copy() # 目标变量（因变量），是否离职（left）\n",
    "X = df.drop(\"left\", axis=1) # 自变量（特征），除了 left 之外的所有变量\n",
    "feature_names = X.columns # 保存特征名，方便后续分析或可视化。\n",
    "\n",
    "from sklearn.model_selection import train_test_split\n",
    "\n",
    "X_train, X_test, y_train, y_test = train_test_split(X, y, test_size=0.3,\n",
    "stratify=y, random_state=42)\n",
    "# test_size=0.3：30% 作为测试集，70% 作为训练集。\n",
    "# stratify=y：按 y（是否离职）的分布分层抽样，确保训练集和测试集中的正负样本比例和原始数据一致。\n",
    "# random_state=42：设置随机种子，保证结果可重复。\n"
   ]
  },
  {
   "cell_type": "code",
   "execution_count": 21,
   "id": "8fe3b3f2-e05f-45bc-98b9-66700fe8533d",
   "metadata": {},
   "outputs": [
    {
     "name": "stdout",
     "output_type": "stream",
     "text": [
      "决策树模型在验证数据集的准确度: 0.95\n",
      "决策树模型变量的重要性：\n",
      "satisfaction_level 0.6024047453941479\n",
      "last_evaluation 0.1396090581366336\n",
      "number_project 0.1057045548418406\n",
      "average_montly_hours 0.004579056261010213\n",
      "time_spend_company 0.14770258536636774\n",
      "Work_accident 0.0\n",
      "promotion_last_5years 0.0\n",
      "salary_new 0.0\n",
      "depart_IT 0.0\n",
      "depart_RandD 0.0\n",
      "depart_accounting 0.0\n",
      "depart_hr 0.0\n",
      "depart_management 0.0\n",
      "depart_marketing 0.0\n",
      "depart_product_mng 0.0\n",
      "depart_sales 0.0\n",
      "depart_support 0.0\n",
      "depart_technical 0.0\n"
     ]
    }
   ],
   "source": [
    "#训练模型\n",
    "from sklearn.tree import DecisionTreeClassifier\n",
    "\n",
    "# 树的最大深度限制为 3\n",
    "tree_clf = DecisionTreeClassifier(max_depth=3) \n",
    "# 在训练集上训练模型\n",
    "tree_clf.fit(X_train, y_train)\n",
    "\n",
    "#利用交叉验证评估模型\n",
    "from sklearn.model_selection import cross_val_score\n",
    "\n",
    "#cross_val_score：做 K 折交叉验证\n",
    "tree_scores = cross_val_score(tree_clf, X_test, y_test,\n",
    "                              scoring=\"accuracy\", cv=5)  \n",
    "\n",
    "tree_score = tree_scores.mean()\n",
    "print(\"决策树模型在验证数据集的准确度: {0:.2f}\".format(tree_score))\n",
    "\n",
    "#看变量的重要性\n",
    "print(\"决策树模型变量的重要性：\")\n",
    "for feature, importance in zip(tree_clf.feature_names_in_, tree_clf.feature_importances_):\n",
    "    print(feature, importance)\n",
    "\n"
   ]
  },
  {
   "cell_type": "code",
   "execution_count": 22,
   "id": "8aa25304-8fc8-4991-aa2c-276ab06ff7d9",
   "metadata": {},
   "outputs": [
    {
     "data": {
      "text/plain": [
       "True"
      ]
     },
     "execution_count": 22,
     "metadata": {},
     "output_type": "execute_result"
    }
   ],
   "source": [
    "#输出决策树的图形\n",
    "from sklearn.tree import export_graphviz\n",
    "from pydotplus import graph_from_dot_data\n",
    "\n",
    "dot_data = export_graphviz(tree_clf,\n",
    "                           out_file=None,\n",
    "                           feature_names=feature_names)\n",
    "graph = graph_from_dot_data(dot_data)\n",
    "graph.write_png('employee_tree.png')\n"
   ]
  },
  {
   "cell_type": "markdown",
   "id": "2822b745-88d7-4422-88b0-4ce6ef6cce25",
   "metadata": {},
   "source": [
    "![](employee_tree.png)"
   ]
  },
  {
   "cell_type": "code",
   "execution_count": 23,
   "id": "0c219e65-21ca-4e59-933d-22e9ce316fff",
   "metadata": {},
   "outputs": [
    {
     "name": "stdout",
     "output_type": "stream",
     "text": [
      "zsh:1: number expected\n"
     ]
    }
   ],
   "source": []
  },
  {
   "cell_type": "code",
   "execution_count": null,
   "id": "85bddef8-a5db-4b15-b39a-3fe9624e12b8",
   "metadata": {},
   "outputs": [],
   "source": []
  }
 ],
 "metadata": {
  "kernelspec": {
   "display_name": "Python 3 (ipykernel)",
   "language": "python",
   "name": "python3"
  },
  "language_info": {
   "codemirror_mode": {
    "name": "ipython",
    "version": 3
   },
   "file_extension": ".py",
   "mimetype": "text/x-python",
   "name": "python",
   "nbconvert_exporter": "python",
   "pygments_lexer": "ipython3",
   "version": "3.11.5"
  }
 },
 "nbformat": 4,
 "nbformat_minor": 5
}
