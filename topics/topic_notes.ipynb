{
 "cells": [
  {
   "cell_type": "markdown",
   "id": "63aeba2c",
   "metadata": {},
   "source": [
    "# 组会备选论文\n",
    "\n",
    "> 提示词 1: 自动生成参考文献目录，下载 PDF 文档\n",
    "\n",
    "- folder = './PDF'\n",
    "- "
   ]
  },
  {
   "cell_type": "code",
   "execution_count": null,
   "id": "40d41270",
   "metadata": {},
   "outputs": [
    {
     "name": "stdout",
     "output_type": "stream",
     "text": [
      "D:\\Github\\weekshare\\topics\\PDF\n"
     ]
    }
   ],
   "source": [
    "*-Path setting\n",
    "global path \"D:/Github\"\n",
    "cd \"$path/weekshare/topics/PDF\""
   ]
  },
  {
   "cell_type": "markdown",
   "id": "373d3f38",
   "metadata": {},
   "source": [
    "\n",
    "# Robust IV using ML\n",
    "\n",
    "Guo, Z., Zheng, M., & Bühlmann, P. (2022). Robustness Against Weak or Invalid Instruments: Exploring Nonlinear Treatment Models with Machine Learning (Version 4). arXiv. [Link](https://doi.org/10.48550/arXiv.2203.12808) (rep), [PDF](https://arxiv.org/pdf/2203.12808.pdf), [Google](<https://scholar.google.com/scholar?q=Robustness Against Weak or Invalid Instruments: Exploring Nonlinear Treatment Models with Machine Learning (Version 4)>).\n"
   ]
  },
  {
   "cell_type": "code",
   "execution_count": 3,
   "id": "ea2f1ad4",
   "metadata": {},
   "outputs": [
    {
     "name": "stdout",
     "output_type": "stream",
     "text": [
      "  \n",
      "Guo, Z., Zheng, M., & Bühlmann, P. (2022). Robustness Against Weak or Invalid I\n",
      "> nstruments: Exploring Nonlinear Treatment Models with Machine Learning (Versi\n",
      "> on 4). arXiv.\n",
      "    Link (rep)    PDF    Google    \n",
      "\n",
      "Guo, Z., Zheng, M., & Bühlmann, P. (2022). Robustness Against Weak or Invalid I\n",
      "> nstruments: Exploring Nonlinear Treatment Models with Machine Learning (Versi\n",
      "> on 4). arXiv. [Link](https://doi.org/10.48550/arXiv.2203.12808) (rep), [PDF](\n",
      "> https://arxiv.org/pdf/2203.12808.pdf), [Google](<https://scholar.google.com/s\n",
      "> cholar?q=Robustness Against Weak or Invalid Instruments: Exploring Nonlinear \n",
      "> Treatment Models with Machine Learning (Version 4)>).\n",
      "        PDF:   dir    view_online     Open\n",
      " \n",
      "Tips: Text is on clipboard. Press 'Ctrl+V' to paste, ^-^\n"
     ]
    }
   ],
   "source": [
    "getiref  2203.12808  , m ar pdf"
   ]
  },
  {
   "cell_type": "markdown",
   "id": "6162af02",
   "metadata": {},
   "source": [
    "### 相关文献：不合理 IV 和弱 IV 问题\n",
    "\n",
    "#### Kang et al. (2025)\n",
    "\n",
    "- Kang, H., Guo, Z., Liu, Z., & Small, D. (2025). Identification and Inference with Invalid Instruments. Annual Review of Statistics and Its Application, 12(1), 385–405. [Link](https://doi.org/10.1146/annurev-statistics-112723-034721), [PDF](https://www.annualreviews.org/docserver/fulltext/statistics/12/1/annurev-statistics-112723-034721.pdf?expires=1758797599&id=id&accname=guest&checksum=9C9C36682B850C6BC46016A8A6A43D81), [Google](<https://scholar.google.com/scholar?q=Identification and Inference with Invalid Instruments>)."
   ]
  },
  {
   "cell_type": "code",
   "execution_count": 4,
   "id": "96d4d536",
   "metadata": {},
   "outputs": [
    {
     "name": "stdout",
     "output_type": "stream",
     "text": [
      "  \n",
      "Kang, H., Guo, Z., Liu, Z., & Small, D. (2025). Identification and Inference wi\n",
      "> th Invalid Instruments. Annual Review of Statistics and Its Application, 12(1\n",
      "> ), 385–405.\n",
      "    Link    PDF    Google    \n",
      "\n",
      "Kang, H., Guo, Z., Liu, Z., & Small, D. (2025). Identification and Inference wi\n",
      "> th Invalid Instruments. Annual Review of Statistics and Its Application, 12(1\n",
      "> ), 385–405. [Link](https://doi.org/10.1146/annurev-statistics-112723-034721),\n",
      ">  [PDF](http://sci-hub.ren/10.1146/annurev-statistics-112723-034721), [Google]\n",
      "> (<https://scholar.google.com/scholar?q=Identification and Inference with Inva\n",
      "> lid Instruments>).\n",
      " \n",
      "Tips: Text is on clipboard. Press 'Ctrl+V' to paste, ^-^\n"
     ]
    }
   ],
   "source": [
    "getiref 10.1146/annurev-statistics-112723-034721, m"
   ]
  },
  {
   "cell_type": "markdown",
   "id": "6cd56505",
   "metadata": {},
   "source": [
    "\n",
    "\n",
    "# 长期和短期政策效果估计\n",
    "\n",
    "Imbens, G., Kallus, N., Mao, X., & Wang, Y. (2025). Long-term causal inference under persistent confounding via data combination. Journal of the Royal Statistical Society Series B: Statistical Methodology, 87(2), 362–388. [Link](https://doi.org/10.1093/jrsssb/qkae095), [PDF](https://academic.oup.com/jrsssb/article-pdf/87/2/362/59597694/qkae095.pdf), [-PDF-2024](https://www.sqz.ac.cn/Public/Uploads/uploadfile/files/20240117/2023wangyuchengguolunwen.pdf), [Google](<https://scholar.google.com/scholar?q=Long-term causal inference under persistent confounding via data combination>). [-cited-](https://scholar.google.com/scholar?cites=4898675682823669277&as_sdt=2005&sciodt=0,5&hl=zh-CN),  \n",
    "\n",
    "\n",
    "#  三重稳健的面板因果估计框架 Triply Robust Panel Estimators\n",
    "\n",
    "> [ChatGPT 对话](https://chatgpt.com/share/68d1838b-3568-8005-a444-9fae800712be)\n",
    "\n",
    "Athey, S., Imbens, G., Qu, Z., & Viviano, D. (2025). Triply Robust Panel Estimators (Version 2). arXiv. [Link](https://doi.org/10.48550/arXiv.2508.21536) (rep), [PDF](https://arxiv.org/pdf/2508.21536.pdf), [Google](<https://scholar.google.com/scholar?q=Triply Robust Panel Estimators (Version 2)>).\n",
    "\n",
    "\n",
    "\n",
    "# Bruns-Smith-2025-JRSSS-augmented balancing weights as linear regression\n",
    "Bruns-Smith, D., Dukes, O., Feller, A., & Ogburn, E. L. (2025). Augmented balancing weights as linear regression. Journal of the Royal Statistical Society Series B: Statistical Methodology. [Link](https://doi.org/10.1093/jrsssb/qkaf019), [PDF](https://academic.oup.com/jrsssb/advance-article-pdf/doi/10.1093/jrsssb/qkaf019/63001537/qkaf019.pdf9), [Google](<https://scholar.google.com/scholar?q=Augmented balancing weights as linear regression>). [-Appendix-](https://oup.silverchair-cdn.com/oup/backfile/Content_public/Journal/jrsssb/PAP/10.1093_jrsssb_qkaf019/2/qkaf019_supplementary_data.pdf?Expires=1761534252&Signature=mySq9sHK7zWYVeeOGTSbPKbQsD323QRhHyK332rcUHgbkq6YYRMABFNymy979jEFG161Citqo5WfpSnCvPgvEPB4DZMLoRqQTMpnUxLfBSJ3SsTAYBKPleJNbXtxnGQyuAwaBndVCRNIC00PwkxgD0896NeUnY-S9Vi6jpiHzI9R6UU6t~5BnVROh~IDKh5h08WfpOlUAX0ZHoi0VTfHcSPpIYmHOxpZJaFdfP~dDDIxAzX3tCo5ahzGgseb7I2hexV6rENishfB4ClYxNRS~GD8w2ngDz6PyD29nRDaJ~KNiEKBVTWDlsNfkkUWxNKFO0m-wT4Nqt2bi6geI-quyA__&Key-Pair-Id=APKAIE5G5CRDK6RD3PGA), [github](https://github.com/bruns-smith/balance-equiv-jrssb)\n",
    "- The data analysed in this paper, including the code used to generate simulated data, is available at [github](https://github.com/bruns-smith/balance-equiv-jrssb) as several `.ipynb` Jupyter notebooks.\n",
    "\n",
    "\n",
    "# \n",
    "\n",
    "Shi, W., & Zubizarreta, J. R. (2025). On the Use of Weighting for Personalized and Transparent Evidence Synthesis (Version 1). arXiv. [Link](https://doi.org/10.48550/arXiv.2509.00228) (rep), [PDF](https://arxiv.org/pdf/2509.00228.pdf), [Google](<https://scholar.google.com/scholar?q=On the Use of Weighting for Personalized and Transparent Evidence Synthesis (Version 1)>)."
   ]
  }
 ],
 "metadata": {
  "kernelspec": {
   "display_name": "Stata (nbstata)",
   "language": "stata",
   "name": "nbstata"
  },
  "language_info": {
   "file_extension": ".do",
   "mimetype": "text/x-stata",
   "name": "stata",
   "version": "17"
  }
 },
 "nbformat": 4,
 "nbformat_minor": 5
}
